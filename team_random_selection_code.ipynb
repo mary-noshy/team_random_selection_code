{
  "cells": [
    {
      "cell_type": "markdown",
      "metadata": {
        "id": "view-in-github",
        "colab_type": "text"
      },
      "source": [
        "<a href=\"https://colab.research.google.com/github/mary-noshy/team_random_selection_code/blob/main/team_random_selection_code.ipynb\" target=\"_parent\"><img src=\"https://colab.research.google.com/assets/colab-badge.svg\" alt=\"Open In Colab\"/></a>"
      ]
    },
    {
      "cell_type": "markdown",
      "metadata": {
        "id": "8isin-Tm_7hS"
      },
      "source": [
        "# Team Random Selection Code :)\n"
      ]
    },
    {
      "cell_type": "code",
      "execution_count": null,
      "metadata": {
        "id": "V53wDdlx_7hW"
      },
      "outputs": [],
      "source": [
        "import random\n",
        "\n",
        "# Define the four test lists\n",
        "level1_list = [1, 2, 3, 4]\n",
        "level2_list = ['a', 'b', 'c','d']\n",
        "level3_list = [99, 88, 77,66]\n",
        "level4_list = [\"1$\",\"2&\",\"3%\",\"4©\"]"
      ]
    },
    {
      "cell_type": "code",
      "source": [
        "team1 = [level1_list[0], level2_list[2], level3_list[1], level4_list[1]]\n",
        "team2 = [level1_list[3], level2_list[0], level3_list[0], level4_list[2]]\n",
        "team3 = [level1_list[1], level2_list[1], level3_list[2], level4_list[3]]\n",
        "team4 = [level1_list[2], level2_list[3], level3_list[3], level4_list[0]]\n",
        "\n",
        "print(\"team1 =\", team1)\n",
        "print(\"team2 =\", team2)\n",
        "print(\"team3 =\", team3)\n",
        "print(\"team4 =\", team4)\n"
      ],
      "metadata": {
        "colab": {
          "base_uri": "https://localhost:8080/"
        },
        "id": "U005edKDyHwD",
        "outputId": "8ec14265-43fd-405f-8cc6-dd6c6111e284"
      },
      "execution_count": null,
      "outputs": [
        {
          "output_type": "stream",
          "name": "stdout",
          "text": [
            "team1 = [1, 'c', 88, '2&']\n",
            "team2 = [4, 'a', 99, '3%']\n",
            "team3 = [2, 'b', 77, '4©']\n",
            "team4 = [3, 'd', 66, '1$']\n"
          ]
        }
      ]
    },
    {
      "cell_type": "markdown",
      "metadata": {
        "id": "OfSvV_ec_7hm"
      },
      "source": [
        "Think about a code that help us to have random new mixed lists, each list should have one element from each level lists.\n",
        "\n",
        "Output may be like that following:\n",
        "```python\n",
        "team1 = [1, 'c', 88, '2&']\n",
        "team2 = [4, 'a', 99, '3%']\n",
        "team3 = [2, 'b', 77, '4©']\n",
        "team4 = [3, 'd', 66, '1$']\n",
        "```\n",
        "\n"
      ]
    }
  ],
  "metadata": {
    "kernelspec": {
      "display_name": "pubmed",
      "language": "python",
      "name": "python3"
    },
    "language_info": {
      "name": "python",
      "version": "3.11.9"
    },
    "colab": {
      "provenance": [],
      "include_colab_link": true
    }
  },
  "nbformat": 4,
  "nbformat_minor": 0
}